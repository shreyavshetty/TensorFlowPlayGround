{
  "nbformat": 4,
  "nbformat_minor": 0,
  "metadata": {
    "colab": {
      "name": "Hackathon_part2_qcut.ipynb",
      "version": "0.3.2",
      "provenance": []
    },
    "kernelspec": {
      "name": "python3",
      "display_name": "Python 3"
    },
    "accelerator": "GPU"
  },
  "cells": [
    {
      "metadata": {
        "id": "oAuJOpPZ-ip6",
        "colab_type": "code",
        "outputId": "bb570bfa-6cbb-48c7-ce9c-2b2249486ef3",
        "colab": {
          "base_uri": "https://localhost:8080/",
          "height": 122
        }
      },
      "cell_type": "code",
      "source": [
        "from google.colab import drive\n",
        "drive.mount('/content/gdrive',force_remount=True)"
      ],
      "execution_count": 0,
      "outputs": [
        {
          "output_type": "stream",
          "text": [
            "Go to this URL in a browser: https://accounts.google.com/o/oauth2/auth?client_id=947318989803-6bn6qk8qdgf4n4g3pfee6491hc0brc4i.apps.googleusercontent.com&redirect_uri=urn%3Aietf%3Awg%3Aoauth%3A2.0%3Aoob&scope=email%20https%3A%2F%2Fwww.googleapis.com%2Fauth%2Fdocs.test%20https%3A%2F%2Fwww.googleapis.com%2Fauth%2Fdrive%20https%3A%2F%2Fwww.googleapis.com%2Fauth%2Fdrive.photos.readonly%20https%3A%2F%2Fwww.googleapis.com%2Fauth%2Fpeopleapi.readonly&response_type=code\n",
            "\n",
            "Enter your authorization code:\n",
            "··········\n",
            "Mounted at /content/gdrive\n"
          ],
          "name": "stdout"
        }
      ]
    },
    {
      "metadata": {
        "id": "G-Ar3fHP_NsG",
        "colab_type": "code",
        "colab": {}
      },
      "cell_type": "code",
      "source": [
        "! tar -xf '/content/gdrive/My Drive/Colab Notebooks/Selfie-dataset.tar.gz'"
      ],
      "execution_count": 0,
      "outputs": []
    },
    {
      "metadata": {
        "id": "goVgHzju_c3s",
        "colab_type": "code",
        "outputId": "54c4627a-8161-43e6-8c7a-5bf42138d38b",
        "colab": {
          "base_uri": "https://localhost:8080/",
          "height": 34
        }
      },
      "cell_type": "code",
      "source": [
        "import tensorflow as tf\n",
        "import keras\n",
        "from keras.applications.resnet50 import ResNet50\n",
        "from keras.preprocessing import image\n",
        "from keras.applications.resnet50 import preprocess_input, decode_predictions\n",
        "from keras.layers import GlobalAveragePooling2D, Dense, Dropout, Activation, Flatten\n",
        "from keras.callbacks import ModelCheckpoint\n",
        "from keras.models import Model\n",
        "import numpy as np\n",
        "import random\n",
        "import cv2\n",
        "from scipy import ndarray\n",
        "import skimage as sk\n",
        "from skimage import transform\n",
        "from skimage import io\n",
        "from skimage import util\n",
        "from matplotlib import pyplot as plt\n",
        "import matplotlib.pyplot as plt\n",
        "import time\n",
        "from keras.wrappers.scikit_learn import KerasClassifier\n",
        "from keras.utils import np_utils\n",
        "import matplotlib.gridspec as gridspec\n",
        "from keras import backend as K\n",
        "import cv2\n",
        "from sklearn.preprocessing import LabelEncoder\n",
        "import os\n",
        "import time\n",
        "import numpy as np\n",
        "import pandas as pd\n",
        "from sklearn.preprocessing import OneHotEncoder\n",
        "%matplotlib inline\n",
        "import matplotlib.image as mpimg"
      ],
      "execution_count": 3,
      "outputs": [
        {
          "output_type": "stream",
          "text": [
            "Using TensorFlow backend.\n"
          ],
          "name": "stderr"
        }
      ]
    },
    {
      "metadata": {
        "id": "GE_meS9A_k2e",
        "colab_type": "code",
        "colab": {}
      },
      "cell_type": "code",
      "source": [
        "data_frame = pd.read_csv(\"Selfie-dataset/selfie_dataset.txt\",sep=\" \")\n",
        "data_frame.columns = ['image_name','popularity_score','partial_faces','is_female','baby','child','teenager','youth','middle_age','senior','white','black','asian','ovaal_face','round_face','heart_face','smiling','mouth_open','frowning','wearing_glasses','wearing_sunglasses','wearing_lipstick','tongue_out','duck_face','black_hair','blond_hair','brown_hair','red_hair','curly_hair','straight_hair','braid_hair','showing_cellphone','using_earphone','using_mirror','braces','wearing_hat','harsh_lighting','dim_lighting']"
      ],
      "execution_count": 0,
      "outputs": []
    },
    {
      "metadata": {
        "id": "r2aYQ-Gp_l5s",
        "colab_type": "code",
        "outputId": "904475b1-5e19-4006-904d-9e1728051c41",
        "colab": {
          "base_uri": "https://localhost:8080/",
          "height": 119
        }
      },
      "cell_type": "code",
      "source": [
        "good_selfie_df = data_frame[['image_name','is_female','baby','child','teenager','youth','middle_age','senior']]\n",
        "popularity_score = data_frame['popularity_score']\n",
        "popularity_score.head()"
      ],
      "execution_count": 5,
      "outputs": [
        {
          "output_type": "execute_result",
          "data": {
            "text/plain": [
              "0    4.385\n",
              "1    4.243\n",
              "2    4.169\n",
              "3    3.873\n",
              "4    4.458\n",
              "Name: popularity_score, dtype: float64"
            ]
          },
          "metadata": {
            "tags": []
          },
          "execution_count": 5
        }
      ]
    },
    {
      "metadata": {
        "id": "UGn1BKar_vEa",
        "colab_type": "code",
        "outputId": "aedc2488-7088-4db9-a500-8383304b5e36",
        "colab": {
          "base_uri": "https://localhost:8080/",
          "height": 359
        }
      },
      "cell_type": "code",
      "source": [
        "good_selfie_df.head(10)"
      ],
      "execution_count": 6,
      "outputs": [
        {
          "output_type": "execute_result",
          "data": {
            "text/html": [
              "<div>\n",
              "<style scoped>\n",
              "    .dataframe tbody tr th:only-of-type {\n",
              "        vertical-align: middle;\n",
              "    }\n",
              "\n",
              "    .dataframe tbody tr th {\n",
              "        vertical-align: top;\n",
              "    }\n",
              "\n",
              "    .dataframe thead th {\n",
              "        text-align: right;\n",
              "    }\n",
              "</style>\n",
              "<table border=\"1\" class=\"dataframe\">\n",
              "  <thead>\n",
              "    <tr style=\"text-align: right;\">\n",
              "      <th></th>\n",
              "      <th>image_name</th>\n",
              "      <th>is_female</th>\n",
              "      <th>baby</th>\n",
              "      <th>child</th>\n",
              "      <th>teenager</th>\n",
              "      <th>youth</th>\n",
              "      <th>middle_age</th>\n",
              "      <th>senior</th>\n",
              "    </tr>\n",
              "  </thead>\n",
              "  <tbody>\n",
              "    <tr>\n",
              "      <th>0</th>\n",
              "      <td>00cddb96ac4c11e3a30212279ba1b65f_6</td>\n",
              "      <td>1</td>\n",
              "      <td>-1</td>\n",
              "      <td>-1</td>\n",
              "      <td>-1</td>\n",
              "      <td>-1</td>\n",
              "      <td>-1</td>\n",
              "      <td>-1</td>\n",
              "    </tr>\n",
              "    <tr>\n",
              "      <th>1</th>\n",
              "      <td>01cdd7aa1a1a11e2aaa822000a1fb0dd_6</td>\n",
              "      <td>1</td>\n",
              "      <td>-1</td>\n",
              "      <td>-1</td>\n",
              "      <td>1</td>\n",
              "      <td>-1</td>\n",
              "      <td>-1</td>\n",
              "      <td>-1</td>\n",
              "    </tr>\n",
              "    <tr>\n",
              "      <th>2</th>\n",
              "      <td>024696bead0c11e389d50ec42b3b1b1c_6</td>\n",
              "      <td>-1</td>\n",
              "      <td>-1</td>\n",
              "      <td>-1</td>\n",
              "      <td>1</td>\n",
              "      <td>-1</td>\n",
              "      <td>-1</td>\n",
              "      <td>-1</td>\n",
              "    </tr>\n",
              "    <tr>\n",
              "      <th>3</th>\n",
              "      <td>026df048221a11e2b52122000a1fa4b5_6</td>\n",
              "      <td>1</td>\n",
              "      <td>-1</td>\n",
              "      <td>-1</td>\n",
              "      <td>-1</td>\n",
              "      <td>-1</td>\n",
              "      <td>1</td>\n",
              "      <td>-1</td>\n",
              "    </tr>\n",
              "    <tr>\n",
              "      <th>4</th>\n",
              "      <td>02b511eed26911e2851d22000a1fb71f_6</td>\n",
              "      <td>1</td>\n",
              "      <td>-1</td>\n",
              "      <td>-1</td>\n",
              "      <td>1</td>\n",
              "      <td>-1</td>\n",
              "      <td>-1</td>\n",
              "      <td>-1</td>\n",
              "    </tr>\n",
              "    <tr>\n",
              "      <th>5</th>\n",
              "      <td>02ee8060b02f11e38fe012b1c8928cc9_6</td>\n",
              "      <td>1</td>\n",
              "      <td>-1</td>\n",
              "      <td>-1</td>\n",
              "      <td>1</td>\n",
              "      <td>-1</td>\n",
              "      <td>-1</td>\n",
              "      <td>-1</td>\n",
              "    </tr>\n",
              "    <tr>\n",
              "      <th>6</th>\n",
              "      <td>0303318e48cc11e2970f22000a1fbcc2_6</td>\n",
              "      <td>1</td>\n",
              "      <td>-1</td>\n",
              "      <td>-1</td>\n",
              "      <td>-1</td>\n",
              "      <td>1</td>\n",
              "      <td>-1</td>\n",
              "      <td>-1</td>\n",
              "    </tr>\n",
              "    <tr>\n",
              "      <th>7</th>\n",
              "      <td>032a49b6bffb11e3b9ca0002c9dbcd18_6</td>\n",
              "      <td>1</td>\n",
              "      <td>-1</td>\n",
              "      <td>-1</td>\n",
              "      <td>1</td>\n",
              "      <td>-1</td>\n",
              "      <td>-1</td>\n",
              "      <td>-1</td>\n",
              "    </tr>\n",
              "    <tr>\n",
              "      <th>8</th>\n",
              "      <td>0345a4babff911e395860002c954a07e_6</td>\n",
              "      <td>1</td>\n",
              "      <td>-1</td>\n",
              "      <td>-1</td>\n",
              "      <td>1</td>\n",
              "      <td>-1</td>\n",
              "      <td>-1</td>\n",
              "      <td>-1</td>\n",
              "    </tr>\n",
              "    <tr>\n",
              "      <th>9</th>\n",
              "      <td>03d27058678811e394b70a1cf42a31d4_6</td>\n",
              "      <td>1</td>\n",
              "      <td>-1</td>\n",
              "      <td>-1</td>\n",
              "      <td>1</td>\n",
              "      <td>-1</td>\n",
              "      <td>-1</td>\n",
              "      <td>-1</td>\n",
              "    </tr>\n",
              "  </tbody>\n",
              "</table>\n",
              "</div>"
            ],
            "text/plain": [
              "                           image_name  is_female  baby  child  teenager  \\\n",
              "0  00cddb96ac4c11e3a30212279ba1b65f_6          1    -1     -1        -1   \n",
              "1  01cdd7aa1a1a11e2aaa822000a1fb0dd_6          1    -1     -1         1   \n",
              "2  024696bead0c11e389d50ec42b3b1b1c_6         -1    -1     -1         1   \n",
              "3  026df048221a11e2b52122000a1fa4b5_6          1    -1     -1        -1   \n",
              "4  02b511eed26911e2851d22000a1fb71f_6          1    -1     -1         1   \n",
              "5  02ee8060b02f11e38fe012b1c8928cc9_6          1    -1     -1         1   \n",
              "6  0303318e48cc11e2970f22000a1fbcc2_6          1    -1     -1        -1   \n",
              "7  032a49b6bffb11e3b9ca0002c9dbcd18_6          1    -1     -1         1   \n",
              "8  0345a4babff911e395860002c954a07e_6          1    -1     -1         1   \n",
              "9  03d27058678811e394b70a1cf42a31d4_6          1    -1     -1         1   \n",
              "\n",
              "   youth  middle_age  senior  \n",
              "0     -1          -1      -1  \n",
              "1     -1          -1      -1  \n",
              "2     -1          -1      -1  \n",
              "3     -1           1      -1  \n",
              "4     -1          -1      -1  \n",
              "5     -1          -1      -1  \n",
              "6      1          -1      -1  \n",
              "7     -1          -1      -1  \n",
              "8     -1          -1      -1  \n",
              "9     -1          -1      -1  "
            ]
          },
          "metadata": {
            "tags": []
          },
          "execution_count": 6
        }
      ]
    },
    {
      "metadata": {
        "id": "i_D-DVOr_0N1",
        "colab_type": "code",
        "outputId": "86555af5-aa96-41e6-e0d0-3e5beee4f039",
        "colab": {
          "base_uri": "https://localhost:8080/",
          "height": 359
        }
      },
      "cell_type": "code",
      "source": [
        "good_selfie_df.tail(10)"
      ],
      "execution_count": 7,
      "outputs": [
        {
          "output_type": "execute_result",
          "data": {
            "text/html": [
              "<div>\n",
              "<style scoped>\n",
              "    .dataframe tbody tr th:only-of-type {\n",
              "        vertical-align: middle;\n",
              "    }\n",
              "\n",
              "    .dataframe tbody tr th {\n",
              "        vertical-align: top;\n",
              "    }\n",
              "\n",
              "    .dataframe thead th {\n",
              "        text-align: right;\n",
              "    }\n",
              "</style>\n",
              "<table border=\"1\" class=\"dataframe\">\n",
              "  <thead>\n",
              "    <tr style=\"text-align: right;\">\n",
              "      <th></th>\n",
              "      <th>image_name</th>\n",
              "      <th>is_female</th>\n",
              "      <th>baby</th>\n",
              "      <th>child</th>\n",
              "      <th>teenager</th>\n",
              "      <th>youth</th>\n",
              "      <th>middle_age</th>\n",
              "      <th>senior</th>\n",
              "    </tr>\n",
              "  </thead>\n",
              "  <tbody>\n",
              "    <tr>\n",
              "      <th>46825</th>\n",
              "      <td>fcad8c644dce11e2a77f22000a9e29a0_6</td>\n",
              "      <td>1</td>\n",
              "      <td>-1</td>\n",
              "      <td>-1</td>\n",
              "      <td>-1</td>\n",
              "      <td>-1</td>\n",
              "      <td>-1</td>\n",
              "      <td>-1</td>\n",
              "    </tr>\n",
              "    <tr>\n",
              "      <th>46826</th>\n",
              "      <td>fd631124be8911e3b0080002c99b89d0_6</td>\n",
              "      <td>1</td>\n",
              "      <td>-1</td>\n",
              "      <td>-1</td>\n",
              "      <td>-1</td>\n",
              "      <td>1</td>\n",
              "      <td>-1</td>\n",
              "      <td>-1</td>\n",
              "    </tr>\n",
              "    <tr>\n",
              "      <th>46827</th>\n",
              "      <td>fdabff32b3bd11e3bf01128d86d26cdc_6</td>\n",
              "      <td>1</td>\n",
              "      <td>-1</td>\n",
              "      <td>-1</td>\n",
              "      <td>-1</td>\n",
              "      <td>1</td>\n",
              "      <td>-1</td>\n",
              "      <td>-1</td>\n",
              "    </tr>\n",
              "    <tr>\n",
              "      <th>46828</th>\n",
              "      <td>fdf09906b22511e396fe12399c84909d_6</td>\n",
              "      <td>0</td>\n",
              "      <td>-1</td>\n",
              "      <td>-1</td>\n",
              "      <td>-1</td>\n",
              "      <td>-1</td>\n",
              "      <td>-1</td>\n",
              "      <td>-1</td>\n",
              "    </tr>\n",
              "    <tr>\n",
              "      <th>46829</th>\n",
              "      <td>fe40cfca3a6611e39fda22000a1f8ae8_6</td>\n",
              "      <td>1</td>\n",
              "      <td>-1</td>\n",
              "      <td>-1</td>\n",
              "      <td>-1</td>\n",
              "      <td>1</td>\n",
              "      <td>-1</td>\n",
              "      <td>-1</td>\n",
              "    </tr>\n",
              "    <tr>\n",
              "      <th>46830</th>\n",
              "      <td>fe5ce3cca89311e3873c0e9928917b41_6</td>\n",
              "      <td>1</td>\n",
              "      <td>-1</td>\n",
              "      <td>-1</td>\n",
              "      <td>-1</td>\n",
              "      <td>1</td>\n",
              "      <td>-1</td>\n",
              "      <td>-1</td>\n",
              "    </tr>\n",
              "    <tr>\n",
              "      <th>46831</th>\n",
              "      <td>feb38bc4a20711e3bc5f0e4e836c9c84_6</td>\n",
              "      <td>1</td>\n",
              "      <td>-1</td>\n",
              "      <td>-1</td>\n",
              "      <td>-1</td>\n",
              "      <td>-1</td>\n",
              "      <td>-1</td>\n",
              "      <td>-1</td>\n",
              "    </tr>\n",
              "    <tr>\n",
              "      <th>46832</th>\n",
              "      <td>fed5374e66d211e3ad1e12ed570e9379_6</td>\n",
              "      <td>-1</td>\n",
              "      <td>-1</td>\n",
              "      <td>-1</td>\n",
              "      <td>-1</td>\n",
              "      <td>-1</td>\n",
              "      <td>-1</td>\n",
              "      <td>-1</td>\n",
              "    </tr>\n",
              "    <tr>\n",
              "      <th>46833</th>\n",
              "      <td>ff639554890411e2942122000aaa0535_6</td>\n",
              "      <td>1</td>\n",
              "      <td>-1</td>\n",
              "      <td>-1</td>\n",
              "      <td>-1</td>\n",
              "      <td>-1</td>\n",
              "      <td>-1</td>\n",
              "      <td>-1</td>\n",
              "    </tr>\n",
              "    <tr>\n",
              "      <th>46834</th>\n",
              "      <td>ffb33a90b06911e3b2a4120e4e51d427_6</td>\n",
              "      <td>-1</td>\n",
              "      <td>-1</td>\n",
              "      <td>-1</td>\n",
              "      <td>-1</td>\n",
              "      <td>1</td>\n",
              "      <td>-1</td>\n",
              "      <td>-1</td>\n",
              "    </tr>\n",
              "  </tbody>\n",
              "</table>\n",
              "</div>"
            ],
            "text/plain": [
              "                               image_name  is_female  baby  child  teenager  \\\n",
              "46825  fcad8c644dce11e2a77f22000a9e29a0_6          1    -1     -1        -1   \n",
              "46826  fd631124be8911e3b0080002c99b89d0_6          1    -1     -1        -1   \n",
              "46827  fdabff32b3bd11e3bf01128d86d26cdc_6          1    -1     -1        -1   \n",
              "46828  fdf09906b22511e396fe12399c84909d_6          0    -1     -1        -1   \n",
              "46829  fe40cfca3a6611e39fda22000a1f8ae8_6          1    -1     -1        -1   \n",
              "46830  fe5ce3cca89311e3873c0e9928917b41_6          1    -1     -1        -1   \n",
              "46831  feb38bc4a20711e3bc5f0e4e836c9c84_6          1    -1     -1        -1   \n",
              "46832  fed5374e66d211e3ad1e12ed570e9379_6         -1    -1     -1        -1   \n",
              "46833  ff639554890411e2942122000aaa0535_6          1    -1     -1        -1   \n",
              "46834  ffb33a90b06911e3b2a4120e4e51d427_6         -1    -1     -1        -1   \n",
              "\n",
              "       youth  middle_age  senior  \n",
              "46825     -1          -1      -1  \n",
              "46826      1          -1      -1  \n",
              "46827      1          -1      -1  \n",
              "46828     -1          -1      -1  \n",
              "46829      1          -1      -1  \n",
              "46830      1          -1      -1  \n",
              "46831     -1          -1      -1  \n",
              "46832     -1          -1      -1  \n",
              "46833     -1          -1      -1  \n",
              "46834      1          -1      -1  "
            ]
          },
          "metadata": {
            "tags": []
          },
          "execution_count": 7
        }
      ]
    },
    {
      "metadata": {
        "id": "OiWxbkL7_1A1",
        "colab_type": "code",
        "outputId": "b05de3bb-78fd-4418-d6bd-15da43d7228d",
        "colab": {
          "base_uri": "https://localhost:8080/",
          "height": 776
        }
      },
      "cell_type": "code",
      "source": [
        "good_selfie_df.hist(figsize=(10,10))  \n"
      ],
      "execution_count": 8,
      "outputs": [
        {
          "output_type": "execute_result",
          "data": {
            "text/plain": [
              "array([[<matplotlib.axes._subplots.AxesSubplot object at 0x7efbdc1c9a20>,\n",
              "        <matplotlib.axes._subplots.AxesSubplot object at 0x7efbdbd4ba58>,\n",
              "        <matplotlib.axes._subplots.AxesSubplot object at 0x7efbdbd0e0f0>],\n",
              "       [<matplotlib.axes._subplots.AxesSubplot object at 0x7efbdbcc4780>,\n",
              "        <matplotlib.axes._subplots.AxesSubplot object at 0x7efbdbda18d0>,\n",
              "        <matplotlib.axes._subplots.AxesSubplot object at 0x7efbdbda19e8>],\n",
              "       [<matplotlib.axes._subplots.AxesSubplot object at 0x7efbdbc65390>,\n",
              "        <matplotlib.axes._subplots.AxesSubplot object at 0x7efbdbc199b0>,\n",
              "        <matplotlib.axes._subplots.AxesSubplot object at 0x7efbdbbccfd0>]],\n",
              "      dtype=object)"
            ]
          },
          "metadata": {
            "tags": []
          },
          "execution_count": 8
        },
        {
          "output_type": "display_data",
          "data": {
            "image/png": "[encoded data removed]",
            "text/plain": [
              "<matplotlib.figure.Figure at 0x7efc2717c438>"
            ]
          },
          "metadata": {
            "tags": []
          }
        }
      ]
    },
    {
      "metadata": {
        "id": "qrtBZeDz_7zV",
        "colab_type": "code",
        "outputId": "a05a061e-202e-45fa-a136-3791cc98a01d",
        "colab": {
          "base_uri": "https://localhost:8080/",
          "height": 136
        }
      },
      "cell_type": "code",
      "source": [
        "good_selfie_df.loc[good_selfie_df['baby']== -1, 'baby'] = 0\n",
        "good_selfie_df.loc[good_selfie_df['teenager']== -1, 'teenager'] = 0\n",
        "good_selfie_df[good_selfie_df.is_female != 0]\n",
        "good_selfie_df.loc[good_selfie_df['is_female']== -1, 'is_female'] = 0\n",
        "good_selfie_df.loc[good_selfie_df['child']== -1, 'child'] = 0\n",
        "good_selfie_df.loc[good_selfie_df['youth']== -1, 'youth'] = 0\n",
        "good_selfie_df.loc[good_selfie_df['middle_age']== -1, 'middle_age'] = 0\n",
        "good_selfie_df.loc[good_selfie_df['senior']== -1, 'senior'] = 0\n",
        "good_selfie_df.head(10)\n",
        "good_selfie_df = good_selfie_df[:5000]\n",
        "popularity_score = popularity_score[:5000]\n",
        "len(popularity_score)"
      ],
      "execution_count": 9,
      "outputs": [
        {
          "output_type": "stream",
          "text": [
            "/usr/local/lib/python3.6/dist-packages/pandas/core/indexing.py:537: SettingWithCopyWarning: \n",
            "A value is trying to be set on a copy of a slice from a DataFrame.\n",
            "Try using .loc[row_indexer,col_indexer] = value instead\n",
            "\n",
            "See the caveats in the documentation: http://pandas.pydata.org/pandas-docs/stable/indexing.html#indexing-view-versus-copy\n",
            "  self.obj[item] = s\n"
          ],
          "name": "stderr"
        },
        {
          "output_type": "execute_result",
          "data": {
            "text/plain": [
              "5000"
            ]
          },
          "metadata": {
            "tags": []
          },
          "execution_count": 9
        }
      ]
    },
    {
      "metadata": {
        "id": "q41sFRmiABwF",
        "colab_type": "code",
        "colab": {}
      },
      "cell_type": "code",
      "source": [
        "msk = np.random.rand(len(good_selfie_df)) < 0.85\n",
        "train_df = good_selfie_df[msk]\n",
        "train_popularity_score_df = popularity_score[msk]\n",
        "test_df = good_selfie_df[~msk]\n",
        "test_popularity_score_df = popularity_score[~msk]"
      ],
      "execution_count": 0,
      "outputs": []
    },
    {
      "metadata": {
        "id": "UXQkmhT8ADWt",
        "colab_type": "code",
        "outputId": "c60a54e5-afe4-4d69-eb49-2020532c1b32",
        "colab": {
          "base_uri": "https://localhost:8080/",
          "height": 85
        }
      },
      "cell_type": "code",
      "source": [
        "print(len(train_df))\n",
        "print(len(test_df))\n",
        "print(len(train_popularity_score_df))\n",
        "print(len(test_popularity_score_df))"
      ],
      "execution_count": 11,
      "outputs": [
        {
          "output_type": "stream",
          "text": [
            "4258\n",
            "742\n",
            "4258\n",
            "742\n"
          ],
          "name": "stdout"
        }
      ]
    },
    {
      "metadata": {
        "id": "fCq9M086AFgl",
        "colab_type": "code",
        "outputId": "a2a3e113-858d-4cf6-c776-a19608a224df",
        "colab": {
          "base_uri": "https://localhost:8080/",
          "height": 34
        }
      },
      "cell_type": "code",
      "source": [
        "imgs = []\n",
        "y = []\n",
        "for index,row in train_df.iterrows():\n",
        "    file_name = row['image_name']\n",
        "    image_path = 'Selfie-dataset/images/'+file_name+'.jpg'\n",
        "    image = mpimg.imread(image_path)\n",
        "    x = preprocess_input(image)\n",
        "    imgs.append(x)\n",
        "imgs_data = np.array(imgs)\n",
        "print(imgs_data.shape)"
      ],
      "execution_count": 12,
      "outputs": [
        {
          "output_type": "stream",
          "text": [
            "(4258, 306, 306, 3)\n"
          ],
          "name": "stdout"
        }
      ]
    },
    {
      "metadata": {
        "id": "kuC0hYEdAJwB",
        "colab_type": "code",
        "outputId": "5942b4d4-d78a-4104-d317-0b4d91d64c90",
        "colab": {
          "base_uri": "https://localhost:8080/",
          "height": 51
        }
      },
      "cell_type": "code",
      "source": [
        "y_popularity_score_train = []\n",
        "for row in train_popularity_score_df:\n",
        "  y_popularity_score_train.append(row)\n",
        "y_np_popularity_score_train = np.array(y_popularity_score_train)\n",
        "print(y_np_popularity_score_train.shape)\n",
        "min_value = np.amin(y_np_popularity_score_train, axis=0)\n",
        "max_value = np.amax(y_np_popularity_score_train, axis=0)\n",
        "print(min_value,max_value)"
      ],
      "execution_count": 13,
      "outputs": [
        {
          "output_type": "stream",
          "text": [
            "(4258,)\n",
            "2.2640000000000002 6.237\n"
          ],
          "name": "stdout"
        }
      ]
    },
    {
      "metadata": {
        "id": "V1sAKKWvCPIG",
        "colab_type": "code",
        "outputId": "85c71c6c-3296-42b9-9822-6c01d2e80408",
        "colab": {
          "base_uri": "https://localhost:8080/",
          "height": 51
        }
      },
      "cell_type": "code",
      "source": [
        "min_value = 1.656\n",
        "max_value = 6.71399\n",
        "fraction = (max_value-min_value)/3\n",
        "print(fraction)\n",
        "class_1 = min_value + fraction\n",
        "class_2 = class_1 + fraction\n",
        "class_3 = class_2 + fraction\n",
        "print(class_1,class_2,class_3)"
      ],
      "execution_count": 14,
      "outputs": [
        {
          "output_type": "stream",
          "text": [
            "1.6859966666666668\n",
            "3.3419966666666667 5.027993333333334 6.713990000000001\n"
          ],
          "name": "stdout"
        }
      ]
    },
    {
      "metadata": {
        "id": "C86ipNEAjGZZ",
        "colab_type": "code",
        "colab": {
          "base_uri": "https://localhost:8080/",
          "height": 88
        },
        "outputId": "b44a7e0c-f6fe-435f-fed8-bb72570b559e"
      },
      "cell_type": "code",
      "source": [
        "y_train= pd.qcut(y_np_popularity_score_train,3, labels=['Great_Selfie','Average_Selfie','Poor_Selfie'])\n",
        "print(y_train)"
      ],
      "execution_count": 21,
      "outputs": [
        {
          "output_type": "stream",
          "text": [
            "[Average_Selfie, Average_Selfie, Average_Selfie, Poor_Selfie, Great_Selfie, ..., Average_Selfie, Average_Selfie, Average_Selfie, Great_Selfie, Great_Selfie]\n",
            "Length: 4258\n",
            "Categories (3, object): [Great_Selfie < Average_Selfie < Poor_Selfie]\n"
          ],
          "name": "stdout"
        }
      ]
    },
    {
      "metadata": {
        "id": "LevRlgn6C7jC",
        "colab_type": "code",
        "outputId": "039ec2b8-b2f3-46f8-be66-610c2a348f2f",
        "colab": {
          "base_uri": "https://localhost:8080/",
          "height": 54
        }
      },
      "cell_type": "code",
      "source": [
        "selfie_state = ['Great_Selfie','Average_Selfie','Poor_Selfie']\n",
        "y_train = []\n",
        "for value in y_np_popularity_score_train:\n",
        "  if value<=class_1:\n",
        "    state = selfie_state[0]\n",
        "  elif value>class_1 and value<=class_2:\n",
        "    state = selfie_state[1]\n",
        "  else:\n",
        "    state = selfie_state[2]\n",
        "  y_train.append(state)\n",
        "print(y_train[0:100])\n",
        "  "
      ],
      "execution_count": 0,
      "outputs": [
        {
          "output_type": "stream",
          "text": [
            "['Average_Selfie', 'Average_Selfie', 'Average_Selfie', 'Average_Selfie', 'Average_Selfie', 'Average_Selfie', 'Great_Selfie', 'Average_Selfie', 'Average_Selfie', 'Poor_Selfie', 'Poor_Selfie', 'Average_Selfie', 'Average_Selfie', 'Average_Selfie', 'Average_Selfie', 'Average_Selfie', 'Average_Selfie', 'Average_Selfie', 'Average_Selfie', 'Average_Selfie', 'Average_Selfie', 'Average_Selfie', 'Average_Selfie', 'Average_Selfie', 'Average_Selfie', 'Average_Selfie', 'Average_Selfie', 'Average_Selfie', 'Poor_Selfie', 'Great_Selfie', 'Average_Selfie', 'Great_Selfie', 'Average_Selfie', 'Average_Selfie', 'Average_Selfie', 'Average_Selfie', 'Average_Selfie', 'Average_Selfie', 'Average_Selfie', 'Average_Selfie', 'Average_Selfie', 'Average_Selfie', 'Average_Selfie', 'Average_Selfie', 'Average_Selfie', 'Average_Selfie', 'Average_Selfie', 'Average_Selfie', 'Average_Selfie', 'Average_Selfie', 'Average_Selfie', 'Average_Selfie', 'Average_Selfie', 'Average_Selfie', 'Average_Selfie', 'Average_Selfie', 'Average_Selfie', 'Average_Selfie', 'Average_Selfie', 'Average_Selfie', 'Average_Selfie', 'Average_Selfie', 'Average_Selfie', 'Average_Selfie', 'Average_Selfie', 'Average_Selfie', 'Poor_Selfie', 'Average_Selfie', 'Average_Selfie', 'Poor_Selfie', 'Average_Selfie', 'Average_Selfie', 'Average_Selfie', 'Average_Selfie', 'Average_Selfie', 'Poor_Selfie', 'Average_Selfie', 'Average_Selfie', 'Average_Selfie', 'Average_Selfie', 'Average_Selfie', 'Average_Selfie', 'Poor_Selfie', 'Poor_Selfie', 'Average_Selfie', 'Average_Selfie', 'Average_Selfie', 'Average_Selfie', 'Average_Selfie', 'Poor_Selfie', 'Average_Selfie', 'Poor_Selfie', 'Average_Selfie', 'Average_Selfie', 'Poor_Selfie', 'Average_Selfie', 'Average_Selfie', 'Average_Selfie', 'Average_Selfie', 'Average_Selfie']\n"
          ],
          "name": "stdout"
        }
      ]
    },
    {
      "metadata": {
        "id": "clDR3z5CAOo2",
        "colab_type": "code",
        "outputId": "e7ec958e-a168-458f-89d2-dfc5f7a15af9",
        "colab": {
          "base_uri": "https://localhost:8080/",
          "height": 34
        }
      },
      "cell_type": "code",
      "source": [
        "imgs = []\n",
        "for index, row in test_df.iterrows():\n",
        "    file_name = row['image_name']\n",
        "    image_path = 'Selfie-dataset/images/'+file_name+'.jpg'\n",
        "    image = mpimg.imread(image_path)\n",
        "    x = preprocess_input(image)\n",
        "    imgs.append(x)\n",
        "imgs_test = np.array(imgs)\n",
        "print(imgs_test.shape)"
      ],
      "execution_count": 22,
      "outputs": [
        {
          "output_type": "stream",
          "text": [
            "(742, 306, 306, 3)\n"
          ],
          "name": "stdout"
        }
      ]
    },
    {
      "metadata": {
        "id": "ZoL_88niFCMn",
        "colab_type": "code",
        "outputId": "7f428388-8485-4525-8ec3-9654cf7fbb3e",
        "colab": {
          "base_uri": "https://localhost:8080/",
          "height": 34
        }
      },
      "cell_type": "code",
      "source": [
        "y_popularity_score_test = []\n",
        "for row in test_popularity_score_df:\n",
        "  y_popularity_score_test.append(row)\n",
        "y_np_popularity_score_test = np.array(y_popularity_score_test)\n",
        "y_np_popularity_score_test = np.array(y_np_popularity_score_test)\n",
        "print(y_np_popularity_score_test.shape)"
      ],
      "execution_count": 23,
      "outputs": [
        {
          "output_type": "stream",
          "text": [
            "(742,)\n"
          ],
          "name": "stdout"
        }
      ]
    },
    {
      "metadata": {
        "id": "7SNUaFJYksH7",
        "colab_type": "code",
        "colab": {
          "base_uri": "https://localhost:8080/",
          "height": 88
        },
        "outputId": "937b3b6e-0e1a-4569-d165-87d7adf0850c"
      },
      "cell_type": "code",
      "source": [
        "y_test= pd.qcut(y_np_popularity_score_test,3, labels=['Great_Selfie','Average_Selfie','Poor_Selfie'])\n",
        "print(y_test)"
      ],
      "execution_count": 24,
      "outputs": [
        {
          "output_type": "stream",
          "text": [
            "[Great_Selfie, Average_Selfie, Average_Selfie, Poor_Selfie, Great_Selfie, ..., Poor_Selfie, Great_Selfie, Great_Selfie, Average_Selfie, Poor_Selfie]\n",
            "Length: 742\n",
            "Categories (3, object): [Great_Selfie < Average_Selfie < Poor_Selfie]\n"
          ],
          "name": "stdout"
        }
      ]
    },
    {
      "metadata": {
        "id": "OKDpQywrp9ci",
        "colab_type": "code",
        "colab": {}
      },
      "cell_type": "code",
      "source": [
        "selfie_state = ['Great_Selfie','Average_Selfie','Poor_Selfie']"
      ],
      "execution_count": 0,
      "outputs": []
    },
    {
      "metadata": {
        "id": "Xhkw07QfAjHr",
        "colab_type": "code",
        "outputId": "81e93bd3-fa99-4336-a959-de59885d866d",
        "colab": {
          "base_uri": "https://localhost:8080/",
          "height": 34
        }
      },
      "cell_type": "code",
      "source": [
        "selfie_state = ['Great_Selfie','Average_Selfie','Poor_Selfie']\n",
        "y_test = []\n",
        "for value in y_np_popularity_score_test:\n",
        "  if value<=class_1:\n",
        "    state = selfie_state[0]\n",
        "  elif value>class_1 and value<=class_2:\n",
        "    state = selfie_state[1]\n",
        "  else:\n",
        "    state = selfie_state[2]\n",
        "  y_test.append(state)\n",
        "print(len(y_test))\n",
        "  "
      ],
      "execution_count": 0,
      "outputs": [
        {
          "output_type": "stream",
          "text": [
            "795\n"
          ],
          "name": "stdout"
        }
      ]
    },
    {
      "metadata": {
        "id": "LNQjmel-NaB6",
        "colab_type": "code",
        "outputId": "90480b27-fa0e-4a20-a237-129d1169a0dd",
        "colab": {
          "base_uri": "https://localhost:8080/",
          "height": 34
        }
      },
      "cell_type": "code",
      "source": [
        "# encode class values as integers\n",
        "encoder = LabelEncoder()\n",
        "encoder.fit(y_train)\n",
        "encoded_Y = encoder.transform(y_train)\n",
        "y_train = np_utils.to_categorical(encoded_Y)\n",
        "print(y_train[100])"
      ],
      "execution_count": 25,
      "outputs": [
        {
          "output_type": "stream",
          "text": [
            "[0. 0. 1.]\n"
          ],
          "name": "stdout"
        }
      ]
    },
    {
      "metadata": {
        "id": "GqwVnPbHOPXZ",
        "colab_type": "code",
        "outputId": "46bad2cb-148e-4124-a59a-e4982ddc4f99",
        "colab": {
          "base_uri": "https://localhost:8080/",
          "height": 34
        }
      },
      "cell_type": "code",
      "source": [
        "# encode class values as integers\n",
        "encoder = LabelEncoder()\n",
        "encoder.fit(y_test)\n",
        "encoded_Y = encoder.transform(y_test)\n",
        "y_test = np_utils.to_categorical(encoded_Y)\n",
        "print(y_test[1])"
      ],
      "execution_count": 26,
      "outputs": [
        {
          "output_type": "stream",
          "text": [
            "[1. 0. 0.]\n"
          ],
          "name": "stdout"
        }
      ]
    },
    {
      "metadata": {
        "id": "Nb9Q4zKJF14O",
        "colab_type": "code",
        "outputId": "9b42b41b-8a27-46de-f88c-cb185997a328",
        "colab": {
          "base_uri": "https://localhost:8080/",
          "height": 190
        }
      },
      "cell_type": "code",
      "source": [
        "onehotencoder = OneHotEncoder()\n",
        "print(y_train[0])\n",
        "y_train_enc = onehotencoder.fit_transform(y_train.reshape(-1,1)).toarray()\n",
        "y_test_enc = onehotencoder.fit_transform(y_test.reshape(-1,1)).toarray()"
      ],
      "execution_count": 27,
      "outputs": [
        {
          "output_type": "stream",
          "text": [
            "[1. 0. 0.]\n"
          ],
          "name": "stdout"
        },
        {
          "output_type": "stream",
          "text": [
            "/usr/local/lib/python3.6/dist-packages/sklearn/preprocessing/_encoders.py:368: FutureWarning: The handling of integer data will change in version 0.22. Currently, the categories are determined based on the range [0, max(values)], while in the future they will be determined based on the unique values.\n",
            "If you want the future behaviour and silence this warning, you can specify \"categories='auto'\".\n",
            "In case you used a LabelEncoder before this OneHotEncoder to convert the categories to integers, then you can now use the OneHotEncoder directly.\n",
            "  warnings.warn(msg, FutureWarning)\n",
            "/usr/local/lib/python3.6/dist-packages/sklearn/preprocessing/_encoders.py:368: FutureWarning: The handling of integer data will change in version 0.22. Currently, the categories are determined based on the range [0, max(values)], while in the future they will be determined based on the unique values.\n",
            "If you want the future behaviour and silence this warning, you can specify \"categories='auto'\".\n",
            "In case you used a LabelEncoder before this OneHotEncoder to convert the categories to integers, then you can now use the OneHotEncoder directly.\n",
            "  warnings.warn(msg, FutureWarning)\n"
          ],
          "name": "stderr"
        }
      ]
    },
    {
      "metadata": {
        "id": "gYp8a6qJGa3w",
        "colab_type": "code",
        "outputId": "a9434847-b65a-4db1-c4b3-61193024bdcb",
        "colab": {
          "base_uri": "https://localhost:8080/",
          "height": 34
        }
      },
      "cell_type": "code",
      "source": [
        "print(y_train[100],y_train_enc[100],y_test[87],y_test_enc[87])"
      ],
      "execution_count": 28,
      "outputs": [
        {
          "output_type": "stream",
          "text": [
            "[0. 0. 1.] [0. 1.] [1. 0. 0.] [1. 0.]\n"
          ],
          "name": "stdout"
        }
      ]
    },
    {
      "metadata": {
        "id": "JPMOui8fGho4",
        "colab_type": "code",
        "colab": {}
      },
      "cell_type": "code",
      "source": [
        "def create_model():\n",
        "  num_output_unit = 3\n",
        "  model = ResNet50(weights='imagenet',include_top=False)\n",
        "  #model.summary()\n",
        "  last_layer = model.output\n",
        "  # add a global spatial average pooling layer\n",
        "  x = GlobalAveragePooling2D()(last_layer)\n",
        "  # add fully-connected & dropout layers\n",
        "  x = Dense(512, activation='relu',name='fc-1')(x)\n",
        "  x = Dropout(0.5)(x)\n",
        "  x = Dense(256, activation='relu',name='fc-2')(x)\n",
        "  x = Dropout(0.5)(x)\n",
        "  # a softmax layer for 4 classes\n",
        "  out_layer = Dense(num_output_unit, activation='softmax',name='output_layer')(x)\n",
        "  # this is the model we will train\n",
        "  custom_resnet_model2 = Model(inputs=model.input, outputs=out_layer)\n",
        "  #custom_resnet_model2.summary()\n",
        "  for layer in custom_resnet_model2.layers[:-6]:\n",
        "    layer.trainable = False\n",
        "  #custom_resnet_model2.layers[-1].trainable\n",
        "  return custom_resnet_model2\n"
      ],
      "execution_count": 0,
      "outputs": []
    },
    {
      "metadata": {
        "id": "YpJ-9-VELpgC",
        "colab_type": "code",
        "colab": {}
      },
      "cell_type": "code",
      "source": [
        "def train():\n",
        "  custom_resnet_model2 = create_model()\n",
        "  custom_resnet_model2.compile(loss='categorical_crossentropy',optimizer='adam',metrics=['accuracy'])\n",
        "  ckpt_model = 'weights.best_h2.hdf5'\n",
        "  checkpoint = ModelCheckpoint(ckpt_model,\n",
        "                    monitor='val_acc',\n",
        "                    verbose=1,\n",
        "                    save_best_only=True,\n",
        "                    mode='max')\n",
        "  callbacks_list = [checkpoint]\n",
        "  # fit the model\n",
        "  t=time.time()\n",
        "  hist = custom_resnet_model2.fit(imgs_data,y_train,batch_size=32, epochs=12, verbose=1,callbacks=callbacks_list,validation_data=(imgs_test,y_test))\n",
        "  print(\"Training time: %s\" % (t - time.time()))\n",
        "  (loss, accuracy) = custom_resnet_model2.evaluate(imgs_test,y_test, batch_size=10, verbose=1)\n",
        "  print(\"[INFO] loss={:.4f}, accuracy: {:.4f}%\".format(loss,accuracy * 100))"
      ],
      "execution_count": 0,
      "outputs": []
    },
    {
      "metadata": {
        "id": "QqQ8lPnnMjaV",
        "colab_type": "code",
        "outputId": "d50a9a2d-7e63-4b53-825b-d69aa12d46ce",
        "colab": {
          "base_uri": "https://localhost:8080/",
          "height": 34
        }
      },
      "cell_type": "code",
      "source": [
        "print(y_train.shape)\n",
        "#train()"
      ],
      "execution_count": 31,
      "outputs": [
        {
          "output_type": "stream",
          "text": [
            "(4258, 3)\n"
          ],
          "name": "stdout"
        }
      ]
    },
    {
      "metadata": {
        "id": "skWMWPTBMa1G",
        "colab_type": "code",
        "colab": {}
      },
      "cell_type": "code",
      "source": [
        "def test_model_250():\n",
        "  # create the model\n",
        "  model = create_model()\n",
        "  # load model weights\n",
        "  model.load_weights('weights.best_h2.hdf5')\n",
        "  # predict values\n",
        "  predicted_values = model.predict(imgs_test[:250])\n",
        "  #print(predicted_values)\n",
        "  for values in predicted_values:\n",
        "    ind = np.argmax(values)\n",
        "    arr = [0,0,0]\n",
        "    arr[ind] = 1\n",
        "    print(arr)"
      ],
      "execution_count": 0,
      "outputs": []
    },
    {
      "metadata": {
        "id": "KMnWbWEbpt0G",
        "colab_type": "code",
        "colab": {
          "base_uri": "https://localhost:8080/",
          "height": 4338
        },
        "outputId": "72d8ad78-991a-46c3-f56f-184643df9d32"
      },
      "cell_type": "code",
      "source": [
        "print(test_model_250())"
      ],
      "execution_count": 47,
      "outputs": [
        {
          "output_type": "stream",
          "text": [
            "/usr/local/lib/python3.6/dist-packages/keras_applications/resnet50.py:265: UserWarning: The output shape of `ResNet50(include_top=False)` has been changed since Keras 2.2.0.\n",
            "  warnings.warn('The output shape of `ResNet50(include_top=False)` '\n"
          ],
          "name": "stderr"
        },
        {
          "output_type": "stream",
          "text": [
            "[0, 0, 1]\n",
            "[0, 0, 1]\n",
            "[0, 0, 1]\n",
            "[0, 0, 1]\n",
            "[0, 1, 0]\n",
            "[0, 1, 0]\n",
            "[1, 0, 0]\n",
            "[0, 0, 1]\n",
            "[0, 1, 0]\n",
            "[0, 0, 1]\n",
            "[1, 0, 0]\n",
            "[0, 1, 0]\n",
            "[0, 1, 0]\n",
            "[0, 1, 0]\n",
            "[0, 1, 0]\n",
            "[0, 0, 1]\n",
            "[0, 0, 1]\n",
            "[0, 1, 0]\n",
            "[0, 1, 0]\n",
            "[0, 1, 0]\n",
            "[0, 0, 1]\n",
            "[0, 1, 0]\n",
            "[0, 0, 1]\n",
            "[0, 0, 1]\n",
            "[0, 1, 0]\n",
            "[0, 1, 0]\n",
            "[0, 1, 0]\n",
            "[0, 0, 1]\n",
            "[0, 0, 1]\n",
            "[0, 1, 0]\n",
            "[0, 0, 1]\n",
            "[0, 1, 0]\n",
            "[0, 1, 0]\n",
            "[0, 0, 1]\n",
            "[0, 0, 1]\n",
            "[0, 1, 0]\n",
            "[0, 0, 1]\n",
            "[0, 1, 0]\n",
            "[0, 1, 0]\n",
            "[0, 0, 1]\n",
            "[0, 0, 1]\n",
            "[0, 0, 1]\n",
            "[0, 1, 0]\n",
            "[0, 0, 1]\n",
            "[0, 0, 1]\n",
            "[0, 0, 1]\n",
            "[0, 1, 0]\n",
            "[0, 0, 1]\n",
            "[0, 0, 1]\n",
            "[0, 0, 1]\n",
            "[0, 0, 1]\n",
            "[0, 0, 1]\n",
            "[0, 0, 1]\n",
            "[0, 1, 0]\n",
            "[0, 1, 0]\n",
            "[0, 0, 1]\n",
            "[0, 1, 0]\n",
            "[0, 0, 1]\n",
            "[0, 0, 1]\n",
            "[0, 0, 1]\n",
            "[0, 0, 1]\n",
            "[0, 0, 1]\n",
            "[1, 0, 0]\n",
            "[0, 1, 0]\n",
            "[0, 0, 1]\n",
            "[1, 0, 0]\n",
            "[0, 0, 1]\n",
            "[0, 0, 1]\n",
            "[0, 0, 1]\n",
            "[0, 0, 1]\n",
            "[0, 1, 0]\n",
            "[0, 0, 1]\n",
            "[0, 0, 1]\n",
            "[0, 0, 1]\n",
            "[0, 1, 0]\n",
            "[0, 1, 0]\n",
            "[0, 0, 1]\n",
            "[0, 0, 1]\n",
            "[0, 0, 1]\n",
            "[0, 0, 1]\n",
            "[0, 0, 1]\n",
            "[1, 0, 0]\n",
            "[0, 0, 1]\n",
            "[0, 0, 1]\n",
            "[0, 1, 0]\n",
            "[0, 0, 1]\n",
            "[0, 0, 1]\n",
            "[1, 0, 0]\n",
            "[0, 1, 0]\n",
            "[0, 0, 1]\n",
            "[0, 0, 1]\n",
            "[0, 1, 0]\n",
            "[0, 0, 1]\n",
            "[0, 0, 1]\n",
            "[0, 1, 0]\n",
            "[0, 0, 1]\n",
            "[1, 0, 0]\n",
            "[0, 0, 1]\n",
            "[0, 1, 0]\n",
            "[0, 0, 1]\n",
            "[0, 0, 1]\n",
            "[0, 0, 1]\n",
            "[0, 0, 1]\n",
            "[0, 0, 1]\n",
            "[0, 0, 1]\n",
            "[0, 1, 0]\n",
            "[0, 0, 1]\n",
            "[0, 1, 0]\n",
            "[0, 0, 1]\n",
            "[0, 0, 1]\n",
            "[1, 0, 0]\n",
            "[0, 0, 1]\n",
            "[0, 0, 1]\n",
            "[0, 0, 1]\n",
            "[0, 0, 1]\n",
            "[0, 1, 0]\n",
            "[0, 0, 1]\n",
            "[0, 1, 0]\n",
            "[0, 0, 1]\n",
            "[0, 0, 1]\n",
            "[0, 1, 0]\n",
            "[1, 0, 0]\n",
            "[0, 0, 1]\n",
            "[0, 1, 0]\n",
            "[0, 0, 1]\n",
            "[0, 0, 1]\n",
            "[0, 0, 1]\n",
            "[0, 0, 1]\n",
            "[0, 0, 1]\n",
            "[0, 1, 0]\n",
            "[1, 0, 0]\n",
            "[0, 1, 0]\n",
            "[0, 1, 0]\n",
            "[0, 0, 1]\n",
            "[0, 0, 1]\n",
            "[0, 1, 0]\n",
            "[0, 0, 1]\n",
            "[0, 0, 1]\n",
            "[0, 0, 1]\n",
            "[0, 1, 0]\n",
            "[0, 1, 0]\n",
            "[0, 0, 1]\n",
            "[0, 1, 0]\n",
            "[0, 1, 0]\n",
            "[0, 0, 1]\n",
            "[0, 0, 1]\n",
            "[0, 1, 0]\n",
            "[0, 0, 1]\n",
            "[0, 0, 1]\n",
            "[0, 0, 1]\n",
            "[0, 1, 0]\n",
            "[0, 1, 0]\n",
            "[0, 0, 1]\n",
            "[0, 0, 1]\n",
            "[0, 0, 1]\n",
            "[0, 1, 0]\n",
            "[0, 1, 0]\n",
            "[0, 0, 1]\n",
            "[0, 1, 0]\n",
            "[0, 0, 1]\n",
            "[0, 1, 0]\n",
            "[0, 0, 1]\n",
            "[0, 0, 1]\n",
            "[0, 0, 1]\n",
            "[0, 0, 1]\n",
            "[1, 0, 0]\n",
            "[1, 0, 0]\n",
            "[0, 0, 1]\n",
            "[1, 0, 0]\n",
            "[0, 0, 1]\n",
            "[0, 0, 1]\n",
            "[1, 0, 0]\n",
            "[0, 0, 1]\n",
            "[0, 1, 0]\n",
            "[0, 0, 1]\n",
            "[0, 0, 1]\n",
            "[0, 0, 1]\n",
            "[0, 0, 1]\n",
            "[0, 1, 0]\n",
            "[0, 1, 0]\n",
            "[0, 0, 1]\n",
            "[0, 1, 0]\n",
            "[0, 0, 1]\n",
            "[0, 0, 1]\n",
            "[0, 0, 1]\n",
            "[0, 1, 0]\n",
            "[0, 0, 1]\n",
            "[0, 1, 0]\n",
            "[0, 0, 1]\n",
            "[0, 1, 0]\n",
            "[0, 0, 1]\n",
            "[0, 0, 1]\n",
            "[0, 0, 1]\n",
            "[0, 1, 0]\n",
            "[0, 0, 1]\n",
            "[0, 0, 1]\n",
            "[0, 0, 1]\n",
            "[0, 0, 1]\n",
            "[0, 0, 1]\n",
            "[0, 0, 1]\n",
            "[1, 0, 0]\n",
            "[0, 0, 1]\n",
            "[0, 0, 1]\n",
            "[0, 1, 0]\n",
            "[0, 0, 1]\n",
            "[0, 0, 1]\n",
            "[0, 0, 1]\n",
            "[0, 1, 0]\n",
            "[0, 0, 1]\n",
            "[0, 0, 1]\n",
            "[0, 0, 1]\n",
            "[0, 1, 0]\n",
            "[0, 0, 1]\n",
            "[0, 1, 0]\n",
            "[0, 0, 1]\n",
            "[0, 1, 0]\n",
            "[0, 0, 1]\n",
            "[0, 1, 0]\n",
            "[0, 0, 1]\n",
            "[0, 1, 0]\n",
            "[0, 0, 1]\n",
            "[0, 0, 1]\n",
            "[0, 1, 0]\n",
            "[0, 0, 1]\n",
            "[0, 0, 1]\n",
            "[0, 0, 1]\n",
            "[0, 0, 1]\n",
            "[0, 0, 1]\n",
            "[0, 0, 1]\n",
            "[0, 0, 1]\n",
            "[0, 1, 0]\n",
            "[0, 0, 1]\n",
            "[0, 0, 1]\n",
            "[0, 0, 1]\n",
            "[0, 0, 1]\n",
            "[0, 1, 0]\n",
            "[0, 1, 0]\n",
            "[0, 1, 0]\n",
            "[1, 0, 0]\n",
            "[0, 0, 1]\n",
            "[0, 0, 1]\n",
            "[0, 1, 0]\n",
            "[0, 1, 0]\n",
            "[0, 0, 1]\n",
            "[0, 0, 1]\n",
            "[0, 0, 1]\n",
            "[0, 1, 0]\n",
            "[0, 1, 0]\n",
            "[0, 1, 0]\n",
            "[0, 0, 1]\n",
            "None\n"
          ],
          "name": "stdout"
        }
      ]
    },
    {
      "metadata": {
        "id": "kHGYSi8tOr8t",
        "colab_type": "code",
        "outputId": "971b100e-eec3-435a-a3ea-0424fca4512a",
        "colab": {
          "base_uri": "https://localhost:8080/",
          "height": 955
        }
      },
      "cell_type": "code",
      "source": [
        "train()"
      ],
      "execution_count": 33,
      "outputs": [
        {
          "output_type": "stream",
          "text": [
            "/usr/local/lib/python3.6/dist-packages/keras_applications/resnet50.py:265: UserWarning: The output shape of `ResNet50(include_top=False)` has been changed since Keras 2.2.0.\n",
            "  warnings.warn('The output shape of `ResNet50(include_top=False)` '\n"
          ],
          "name": "stderr"
        },
        {
          "output_type": "stream",
          "text": [
            "Train on 4258 samples, validate on 742 samples\n",
            "Epoch 1/12\n",
            "4258/4258 [==============================] - 83s 20ms/step - loss: 1.2166 - acc: 0.3950 - val_loss: 1.0520 - val_acc: 0.4394\n",
            "\n",
            "Epoch 00001: val_acc improved from -inf to 0.43935, saving model to weights.best_h2.hdf5\n",
            "Epoch 2/12\n",
            "4258/4258 [==============================] - 75s 18ms/step - loss: 1.0352 - acc: 0.4528 - val_loss: 1.1229 - val_acc: 0.4218\n",
            "\n",
            "Epoch 00002: val_acc did not improve from 0.43935\n",
            "Epoch 3/12\n",
            "4258/4258 [==============================] - 76s 18ms/step - loss: 1.0074 - acc: 0.4868 - val_loss: 1.2310 - val_acc: 0.4164\n",
            "\n",
            "Epoch 00003: val_acc did not improve from 0.43935\n",
            "Epoch 4/12\n",
            "4258/4258 [==============================] - 75s 18ms/step - loss: 0.9846 - acc: 0.4915 - val_loss: 1.1685 - val_acc: 0.4367\n",
            "\n",
            "Epoch 00004: val_acc did not improve from 0.43935\n",
            "Epoch 5/12\n",
            "4258/4258 [==============================] - 75s 18ms/step - loss: 0.9865 - acc: 0.4934 - val_loss: 1.1171 - val_acc: 0.4488\n",
            "\n",
            "Epoch 00005: val_acc improved from 0.43935 to 0.44879, saving model to weights.best_h2.hdf5\n",
            "Epoch 6/12\n",
            "4258/4258 [==============================] - 75s 18ms/step - loss: 0.9852 - acc: 0.4831 - val_loss: 1.1661 - val_acc: 0.4515\n",
            "\n",
            "Epoch 00006: val_acc improved from 0.44879 to 0.45148, saving model to weights.best_h2.hdf5\n",
            "Epoch 7/12\n",
            "4258/4258 [==============================] - 76s 18ms/step - loss: 0.9701 - acc: 0.4951 - val_loss: 1.1954 - val_acc: 0.4286\n",
            "\n",
            "Epoch 00007: val_acc did not improve from 0.45148\n",
            "Epoch 8/12\n",
            "4258/4258 [==============================] - 75s 18ms/step - loss: 0.9556 - acc: 0.5096 - val_loss: 1.1289 - val_acc: 0.4555\n",
            "\n",
            "Epoch 00008: val_acc improved from 0.45148 to 0.45553, saving model to weights.best_h2.hdf5\n",
            "Epoch 9/12\n",
            "4258/4258 [==============================] - 76s 18ms/step - loss: 0.9474 - acc: 0.5193 - val_loss: 1.2004 - val_acc: 0.4461\n",
            "\n",
            "Epoch 00009: val_acc did not improve from 0.45553\n",
            "Epoch 10/12\n",
            "4258/4258 [==============================] - 75s 18ms/step - loss: 0.9473 - acc: 0.5169 - val_loss: 1.1632 - val_acc: 0.4528\n",
            "\n",
            "Epoch 00010: val_acc did not improve from 0.45553\n",
            "Epoch 11/12\n",
            "4258/4258 [==============================] - 75s 18ms/step - loss: 0.9281 - acc: 0.5338 - val_loss: 1.1927 - val_acc: 0.4623\n",
            "\n",
            "Epoch 00011: val_acc improved from 0.45553 to 0.46226, saving model to weights.best_h2.hdf5\n",
            "Epoch 12/12\n",
            "4258/4258 [==============================] - 76s 18ms/step - loss: 0.9442 - acc: 0.5150 - val_loss: 1.2186 - val_acc: 0.4434\n",
            "\n",
            "Epoch 00012: val_acc did not improve from 0.46226\n",
            "Training time: -923.6129229068756\n",
            "742/742 [==============================] - 16s 21ms/step\n",
            "[INFO] loss=1.2186, accuracy: 44.3396%\n"
          ],
          "name": "stdout"
        }
      ]
    },
    {
      "metadata": {
        "id": "NivWtYJGOtCH",
        "colab_type": "code",
        "outputId": "e07077b6-8f8b-4449-a8bb-f8938ee061f1",
        "colab": {
          "base_uri": "https://localhost:8080/",
          "height": 88
        }
      },
      "cell_type": "code",
      "source": [
        "print(test_model('/content/gdrive/My Drive/Colab Notebooks/bad sel.jpg'))"
      ],
      "execution_count": 0,
      "outputs": [
        {
          "output_type": "stream",
          "text": [
            "/usr/local/lib/python3.6/dist-packages/keras_applications/resnet50.py:265: UserWarning: The output shape of `ResNet50(include_top=False)` has been changed since Keras 2.2.0.\n",
            "  warnings.warn('The output shape of `ResNet50(include_top=False)` '\n"
          ],
          "name": "stderr"
        },
        {
          "output_type": "stream",
          "text": [
            "Great_Selfie\n"
          ],
          "name": "stdout"
        }
      ]
    },
    {
      "metadata": {
        "id": "N2urUy1GWLeb",
        "colab_type": "code",
        "outputId": "2e1a126b-a219-4056-a66e-c50be6be990b",
        "colab": {
          "base_uri": "https://localhost:8080/",
          "height": 34
        }
      },
      "cell_type": "code",
      "source": [
        "print(imgs_test[1].shape)"
      ],
      "execution_count": 0,
      "outputs": [
        {
          "output_type": "stream",
          "text": [
            "(306, 306, 3)\n"
          ],
          "name": "stdout"
        }
      ]
    },
    {
      "metadata": {
        "id": "a-OScJPtafW5",
        "colab_type": "code",
        "colab": {}
      },
      "cell_type": "code",
      "source": [
        ""
      ],
      "execution_count": 0,
      "outputs": []
    }
  ]
}